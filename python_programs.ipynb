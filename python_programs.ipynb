{
  "nbformat": 4,
  "nbformat_minor": 0,
  "metadata": {
    "colab": {
      "provenance": [],
      "authorship_tag": "ABX9TyN0zre8BdKV1kfkV+dCwfY6",
      "include_colab_link": true
    },
    "kernelspec": {
      "name": "python3",
      "display_name": "Python 3"
    },
    "language_info": {
      "name": "python"
    }
  },
  "cells": [
    {
      "cell_type": "markdown",
      "metadata": {
        "id": "view-in-github",
        "colab_type": "text"
      },
      "source": [
        "<a href=\"https://colab.research.google.com/github/vthombare/vthombare/blob/Python_Code/python_programs.ipynb\" target=\"_parent\"><img src=\"https://colab.research.google.com/assets/colab-badge.svg\" alt=\"Open In Colab\"/></a>"
      ]
    },
    {
      "cell_type": "code",
      "execution_count": 2,
      "metadata": {
        "colab": {
          "base_uri": "https://localhost:8080/"
        },
        "id": "XOdOgpSPvVRj",
        "outputId": "1c0f035a-a77a-4f0c-fe03-7541d4925914"
      },
      "outputs": [
        {
          "output_type": "stream",
          "name": "stdout",
          "text": [
            "Hi Vijay\n"
          ]
        }
      ],
      "source": [
        "print(\"Hi Vijay\")"
      ]
    },
    {
      "cell_type": "code",
      "source": [
        "print(\"1\\n2\\n3\\n4\\n5\")"
      ],
      "metadata": {
        "colab": {
          "base_uri": "https://localhost:8080/"
        },
        "id": "51jnIgI-vyAS",
        "outputId": "37bad593-6c77-437b-c87f-193ca3091e75"
      },
      "execution_count": 3,
      "outputs": [
        {
          "output_type": "stream",
          "name": "stdout",
          "text": [
            "1\n",
            "2\n",
            "3\n",
            "4\n",
            "5\n"
          ]
        }
      ]
    },
    {
      "cell_type": "code",
      "source": [
        "def SI(pa,t,r):\n",
        "  return (pa*t*r)/(365*100)\n",
        "\n",
        "pa=10000\n",
        "si=SI(10000.0,789,1.3)\n",
        "total=si+pa\n",
        "print(round(total,2))"
      ],
      "metadata": {
        "colab": {
          "base_uri": "https://localhost:8080/"
        },
        "id": "BUmaU4BrUBzF",
        "outputId": "c07bcf2b-3618-46ea-be83-b40b3144e2d0"
      },
      "execution_count": 8,
      "outputs": [
        {
          "output_type": "stream",
          "name": "stdout",
          "text": [
            "10281.01\n"
          ]
        }
      ]
    },
    {
      "cell_type": "code",
      "source": [
        "def no_of_days(n):\n",
        "    if n==1:\n",
        "        return 31\n",
        "    elif n==2:\n",
        "        return 28\n",
        "    elif n==3:\n",
        "        return 31\n",
        "    elif n==4:\n",
        "        return 30\n",
        "    elif n==5:\n",
        "        return 31\n",
        "    elif n==6:\n",
        "        return 30\n",
        "    elif n==7:\n",
        "        return 31\n",
        "    elif n==8:\n",
        "        return 31\n",
        "    elif n==9:\n",
        "        return 30\n",
        "    elif n==10:\n",
        "        return 31\n",
        "    elif n==11:\n",
        "        return 30\n",
        "    elif n==12:\n",
        "        return 31\n",
        "    else:\n",
        "      return \"Invalid Input\"\n",
        "\n",
        "op=no_of_days(14)\n",
        "print(op)"
      ],
      "metadata": {
        "colab": {
          "base_uri": "https://localhost:8080/"
        },
        "id": "wW1kqOAXzlhZ",
        "outputId": "a6fe0bd8-271f-4d98-9f4d-a0c28a8c0b8f"
      },
      "execution_count": 15,
      "outputs": [
        {
          "output_type": "stream",
          "name": "stdout",
          "text": [
            "Invalid Input\n"
          ]
        }
      ]
    },
    {
      "cell_type": "code",
      "source": [
        "def no_of_days(n):\n",
        "  if n>12 or n<=0:\n",
        "    return \"Invalid Input\"\n",
        "  if n==2:\n",
        "    return 28\n",
        "  elif n<8:\n",
        "    if n%2==0:\n",
        "      return 30\n",
        "    else:\n",
        "      return 31\n",
        "  elif n>=8:\n",
        "    if n%2==0:\n",
        "      return 31\n",
        "    else:\n",
        "      return 30 \n",
        "\n",
        "op=no_of_days(12)\n",
        "print(op)"
      ],
      "metadata": {
        "colab": {
          "base_uri": "https://localhost:8080/"
        },
        "id": "zoXQ-b8q2Xmm",
        "outputId": "88f6464a-f31f-4f1e-d7db-44ddf1c0b96e"
      },
      "execution_count": 44,
      "outputs": [
        {
          "output_type": "stream",
          "name": "stdout",
          "text": [
            "31\n"
          ]
        }
      ]
    },
    {
      "cell_type": "code",
      "source": [
        "N,M=input().split(\" \")\n",
        "N,M=int(N),int(M)\n",
        "ch='.|.'\n",
        "\n",
        "for i in range(0,int(N-(N+1)/2)):\n",
        "    print(str(ch*(2*i+1)).center(M,'-'))\n",
        "        \n",
        "print(\"WELCOME\".center(M,'-'))\n",
        "\n",
        "for i in range(int(N-(N+1)/2),0,-1):\n",
        "    print(str(ch*(2*i-1)).center(M,'-'))"
      ],
      "metadata": {
        "colab": {
          "base_uri": "https://localhost:8080/"
        },
        "id": "DzX1TYzp5HTU",
        "outputId": "bc6d978f-efd0-4680-ef03-ea1432a97a49"
      },
      "execution_count": 5,
      "outputs": [
        {
          "output_type": "stream",
          "name": "stdout",
          "text": [
            "20 60\n",
            "----------------------------.|.-----------------------------\n",
            "-------------------------.|..|..|.--------------------------\n",
            "----------------------.|..|..|..|..|.-----------------------\n",
            "-------------------.|..|..|..|..|..|..|.--------------------\n",
            "----------------.|..|..|..|..|..|..|..|..|.-----------------\n",
            "-------------.|..|..|..|..|..|..|..|..|..|..|.--------------\n",
            "----------.|..|..|..|..|..|..|..|..|..|..|..|..|.-----------\n",
            "-------.|..|..|..|..|..|..|..|..|..|..|..|..|..|..|.--------\n",
            "----.|..|..|..|..|..|..|..|..|..|..|..|..|..|..|..|..|.-----\n",
            "--------------------------WELCOME---------------------------\n",
            "----.|..|..|..|..|..|..|..|..|..|..|..|..|..|..|..|..|.-----\n",
            "-------.|..|..|..|..|..|..|..|..|..|..|..|..|..|..|.--------\n",
            "----------.|..|..|..|..|..|..|..|..|..|..|..|..|.-----------\n",
            "-------------.|..|..|..|..|..|..|..|..|..|..|.--------------\n",
            "----------------.|..|..|..|..|..|..|..|..|.-----------------\n",
            "-------------------.|..|..|..|..|..|..|.--------------------\n",
            "----------------------.|..|..|..|..|.-----------------------\n",
            "-------------------------.|..|..|.--------------------------\n",
            "----------------------------.|.-----------------------------\n"
          ]
        }
      ]
    },
    {
      "cell_type": "code",
      "source": [
        "def solve(A):\n",
        "  A=set(A)\n",
        "  A=list(A)\n",
        "  A.sort()\n",
        "  \n",
        "  if len(A)==1:\n",
        "    return 0\n",
        "  else:\n",
        "    return A, (A[len(A)-2])\n",
        "\n",
        "A = [0,0,1]\n",
        "op=solve(A)\n",
        "print(op)"
      ],
      "metadata": {
        "colab": {
          "base_uri": "https://localhost:8080/"
        },
        "id": "TvP1vh9QDxTx",
        "outputId": "21edb254-e974-4bc5-98fc-56f95350f3fb"
      },
      "execution_count": 22,
      "outputs": [
        {
          "output_type": "stream",
          "name": "stdout",
          "text": [
            "([0, 1], 0)\n"
          ]
        }
      ]
    },
    {
      "cell_type": "code",
      "source": [
        "#a = int(input(\"Enter number: \"))\n",
        "#print(type(a))\n",
        "\n",
        "print(bool(\"abc43243\"))"
      ],
      "metadata": {
        "colab": {
          "base_uri": "https://localhost:8080/"
        },
        "id": "qjHyo7mBPk-M",
        "outputId": "c5e9e843-3257-41de-c083-1ad20fa02aa4"
      },
      "execution_count": 5,
      "outputs": [
        {
          "output_type": "stream",
          "name": "stdout",
          "text": [
            "True\n"
          ]
        }
      ]
    },
    {
      "cell_type": "code",
      "source": [
        "a, b = 10, 20\n",
        " \n",
        "print (\"Both a and b are equal\" if a == b else \"a is greater than b\"\n",
        "        if a > b else \"b is greater than a\")"
      ],
      "metadata": {
        "colab": {
          "base_uri": "https://localhost:8080/"
        },
        "id": "-eSJ9dhFCY8j",
        "outputId": "849bd325-2757-48c7-8cdc-9e8f2bd8fc86"
      },
      "execution_count": 6,
      "outputs": [
        {
          "output_type": "stream",
          "name": "stdout",
          "text": [
            "b is greater than a\n"
          ]
        }
      ]
    },
    {
      "cell_type": "code",
      "source": [
        "for i in range(2):\n",
        "  print(2)"
      ],
      "metadata": {
        "colab": {
          "base_uri": "https://localhost:8080/"
        },
        "id": "udZy2WczIjLm",
        "outputId": "b47df84e-6aa1-4171-abb6-5c7b5dd5ed56"
      },
      "execution_count": 9,
      "outputs": [
        {
          "output_type": "stream",
          "name": "stdout",
          "text": [
            "2\n",
            "2\n"
          ]
        }
      ]
    },
    {
      "cell_type": "code",
      "source": [
        "for number in range(1, 5) :\n",
        "  if number == 3:\n",
        "    exit()\n",
        "    print(number)\n",
        "print(\"Hello\")\n"
      ],
      "metadata": {
        "colab": {
          "base_uri": "https://localhost:8080/"
        },
        "id": "IQVwGd-QK69Z",
        "outputId": "1726d535-1653-4c7b-84c8-a0f8c163cd59"
      },
      "execution_count": 26,
      "outputs": [
        {
          "output_type": "stream",
          "name": "stdout",
          "text": [
            "3\n",
            "Hello\n"
          ]
        }
      ]
    },
    {
      "cell_type": "code",
      "source": [
        "a=[1,2,3,4,5]\n",
        "#print(a[3::-1])\n",
        "print(a)"
      ],
      "metadata": {
        "colab": {
          "base_uri": "https://localhost:8080/"
        },
        "id": "7L4jEvqAhy4S",
        "outputId": "3ad64fea-f5b0-48c1-a3d2-8cac5e83475a"
      },
      "execution_count": 6,
      "outputs": [
        {
          "output_type": "stream",
          "name": "stdout",
          "text": [
            "[1, 2, 3, 4, 5]\n"
          ]
        }
      ]
    },
    {
      "cell_type": "code",
      "source": [
        "a=['data', 'python', 'scaler', 'ML', 'foo', 'Jupyter', 'lists']\n",
        "\n",
        "#print(a[5::-3])\n",
        "print(a[:]!=a)"
      ],
      "metadata": {
        "colab": {
          "base_uri": "https://localhost:8080/"
        },
        "id": "A2_lsD5FkjKL",
        "outputId": "11249226-2457-4a8d-f9ec-f41704529b50"
      },
      "execution_count": 18,
      "outputs": [
        {
          "output_type": "stream",
          "name": "stdout",
          "text": [
            "False\n"
          ]
        }
      ]
    },
    {
      "cell_type": "code",
      "source": [
        "for i in range(1):\n",
        "  for j in range(2):\n",
        "    for k in range(1):\n",
        "      print(\"a\", end=\" \")\n",
        "    print(end=\" \")\n",
        "  print(\"c\")\n",
        "\n"
      ],
      "metadata": {
        "colab": {
          "base_uri": "https://localhost:8080/"
        },
        "id": "32KQuTF_Y4Zy",
        "outputId": "0d9e642d-9955-403a-a92a-2a7f1b7d18dd"
      },
      "execution_count": 32,
      "outputs": [
        {
          "output_type": "stream",
          "name": "stdout",
          "text": [
            "a  a  c\n"
          ]
        }
      ]
    },
    {
      "cell_type": "code",
      "source": [
        "def isPowerOfTwo(n):\n",
        "    if (n == 0):\n",
        "        return False\n",
        "    while (n != 1):\n",
        "            if (n % 2 != 0):\n",
        "                return False\n",
        "            n = n // 2\n",
        "             \n",
        "    return True\n",
        "\n",
        "if(isPowerOfTwo(8)):\n",
        "    print('Yes')\n",
        "else:\n",
        "    print('No')\n"
      ],
      "metadata": {
        "colab": {
          "base_uri": "https://localhost:8080/"
        },
        "id": "JBxy50uxarQU",
        "outputId": "cd3ca9fa-633a-4b54-a59e-353b6df54cf1"
      },
      "execution_count": 44,
      "outputs": [
        {
          "output_type": "stream",
          "name": "stdout",
          "text": [
            "Yes\n"
          ]
        }
      ]
    },
    {
      "cell_type": "code",
      "source": [
        "A=[1,5,3,4,0,2]\n",
        "\n",
        "#A[0]= 5,1,31\n",
        "#A[1]= 2,5,17\n",
        "#A[2]= 4,3,27\n",
        "#A[3]= 0,4,4\n",
        "#A[4]= 1,0,6\n",
        "#A[5]= 3,2,20\n",
        "\n",
        "#A[i]=A[A[i]]\n",
        "\n",
        "for i in range(len(A)):\n",
        "  v=A[A[i]]\n",
        "  v1=print(((len(A)*v)+A[i]))\n",
        "  print(v,v1)\n",
        "  #A[i]=v1//(len(A))\n",
        "\n"
      ],
      "metadata": {
        "colab": {
          "base_uri": "https://localhost:8080/"
        },
        "id": "nE-LujMJ4VBq",
        "outputId": "d4a750ee-c5f4-442c-8ad2-c06c38020959"
      },
      "execution_count": 20,
      "outputs": [
        {
          "output_type": "stream",
          "name": "stdout",
          "text": [
            "31\n",
            "5 None\n",
            "17\n",
            "2 None\n",
            "27\n",
            "4 None\n",
            "4\n",
            "0 None\n",
            "6\n",
            "1 None\n",
            "20\n",
            "3 None\n"
          ]
        }
      ]
    },
    {
      "cell_type": "code",
      "source": [
        "from ast import Add\n",
        "#A=[1,5,3,4,0,2]\n",
        "\n",
        "#A=[0,5,1,4,2,3]\n",
        "#A=[0,3,5,2,1,4]\n",
        "\n",
        "A=[9,4,8,6,0,1,5,3,7,2]\n",
        "print(A)\n",
        "#A[0]= 5,1,31\n",
        "#A[1]= 2,5,17\n",
        "#A[2]= 4,3,27\n",
        "#A[3]= 0,4,4\n",
        "#A[4]= 1,0,6\n",
        "#A[5]= 3,2,20\n",
        "\n",
        "#A[i]=A[A[i]]\n",
        "\n",
        "for i in range(len(A)):\n",
        "  A[i]=(len(A)*A[i])\n",
        "print(A)\n",
        "\n",
        "for i in range(len(A)):\n",
        "  A[i]=A[i]+(A[A[i]//len(A)])//len(A)\n",
        "print(A)\n",
        "\n",
        "for i in range(len(A)):\n",
        "  A[i]=A[i]%len(A)\n",
        "print(A)"
      ],
      "metadata": {
        "colab": {
          "base_uri": "https://localhost:8080/"
        },
        "id": "Gw1ECj2yBnYX",
        "outputId": "1f27b2fc-9280-4591-c0f2-7bf8028224ca"
      },
      "execution_count": 11,
      "outputs": [
        {
          "output_type": "stream",
          "name": "stdout",
          "text": [
            "[9, 4, 8, 6, 0, 1, 5, 3, 7, 2]\n",
            "[90, 40, 80, 60, 0, 10, 50, 30, 70, 20]\n",
            "[92, 40, 87, 65, 9, 14, 51, 36, 73, 28]\n",
            "[2, 0, 7, 5, 9, 4, 1, 6, 3, 8]\n"
          ]
        }
      ]
    },
    {
      "cell_type": "code",
      "source": [
        "from ast import Add\n",
        "#A=[1,5,3,4,0,2]\n",
        "\n",
        "#A=[0,5,1,4,2,3]\n",
        "#A=[0,3,5,2,1,4]\n",
        "\n",
        "A=[9,4,8,6,0,1,5,3,7,2]\n",
        "print(A)\n",
        "#A[0]= 5,1,31\n",
        "#A[1]= 2,5,17\n",
        "#A[2]= 4,3,27\n",
        "#A[3]= 0,4,4\n",
        "#A[4]= 1,0,6\n",
        "#A[5]= 3,2,20\n",
        "\n",
        "#A[i]=A[A[i]]\n",
        "\n",
        "for i in range(len(A)):\n",
        "  A[i]=(len(A)*A[i])\n",
        "print(A)\n",
        "\n",
        "for i in range(len(A)):\n",
        "  A[i]=(A[A[i]//len(A)])//len(A)\n",
        "\n",
        "print(A)"
      ],
      "metadata": {
        "colab": {
          "base_uri": "https://localhost:8080/"
        },
        "id": "CWKnStL80H3v",
        "outputId": "043a0cda-08e9-4411-e016-eccc628bd7c7"
      },
      "execution_count": 12,
      "outputs": [
        {
          "output_type": "stream",
          "name": "stdout",
          "text": [
            "[9, 4, 8, 6, 0, 1, 5, 3, 7, 2]\n",
            "[90, 40, 80, 60, 0, 10, 50, 30, 70, 20]\n",
            "[2, 0, 7, 5, 0, 0, 0, 0, 0, 0]\n"
          ]
        }
      ]
    },
    {
      "cell_type": "code",
      "source": [
        "a = ['Jadeja', 'Rahul', 'Rohit', 'Dhoni', 'Virat', 'me']\n",
        "print(a[3:4:-1])"
      ],
      "metadata": {
        "colab": {
          "base_uri": "https://localhost:8080/"
        },
        "id": "RXzbii2cYLj-",
        "outputId": "5d646b8d-78b4-492e-f6e4-6572e84d2a7b"
      },
      "execution_count": 22,
      "outputs": [
        {
          "output_type": "stream",
          "name": "stdout",
          "text": [
            "[]\n"
          ]
        }
      ]
    },
    {
      "cell_type": "code",
      "source": [
        "str1 = \"PYcharm3\"\n",
        "print(str1[1:4],str1[:5],str1[-6:], str1[0:-1], str1[:-1])"
      ],
      "metadata": {
        "colab": {
          "base_uri": "https://localhost:8080/"
        },
        "id": "jMCjnfepvxVZ",
        "outputId": "5b9ca732-575b-4ad3-a51b-280d528cf5c5"
      },
      "execution_count": 24,
      "outputs": [
        {
          "output_type": "stream",
          "name": "stdout",
          "text": [
            "Ych PYcha charm3 PYcharm PYcharm\n"
          ]
        }
      ]
    },
    {
      "cell_type": "code",
      "source": [
        "def countuniquewords(inp):\n",
        "    ans = 0\n",
        "    arr = list(inp.split())\n",
        "    for word in arr:\n",
        "        arr2=[]\n",
        "        #if len(set(word)) == len(word) and len(word) > 3:\n",
        "        #if len(tuple(word)) == len(word) and len(word) > 3:\n",
        "        for i in range(0,len(word)):\n",
        "          if word[i] not in arr2:\n",
        "            arr2.append(word[i])\n",
        "        if len(arr2) == len(word) and len(word)>3:\n",
        "          ans += 1\n",
        "  \n",
        "    return ans\n",
        "\n",
        "op=countuniquewords(\"andw myrt simter istyujkl abde tanku\")\n",
        "print(op)"
      ],
      "metadata": {
        "colab": {
          "base_uri": "https://localhost:8080/"
        },
        "id": "dOLGapnC1j-d",
        "outputId": "523fc3b5-e0b8-48da-a4ab-df470a7e701b"
      },
      "execution_count": 36,
      "outputs": [
        {
          "output_type": "stream",
          "name": "stdout",
          "text": [
            "6\n"
          ]
        }
      ]
    },
    {
      "cell_type": "code",
      "source": [
        "A=\"My Name Is Vijay\"\n",
        "A=A.lower()\n",
        "print(A)"
      ],
      "metadata": {
        "colab": {
          "base_uri": "https://localhost:8080/"
        },
        "id": "f8w120-D793E",
        "outputId": "21109e94-3eba-4758-a028-45fe7ffa57a2"
      },
      "execution_count": 41,
      "outputs": [
        {
          "output_type": "stream",
          "name": "stdout",
          "text": [
            "my name is vijay\n"
          ]
        }
      ]
    },
    {
      "cell_type": "code",
      "source": [
        "def check_vowels(str):\n",
        "    arr=[]\n",
        "    vowels_list=[]\n",
        "    vowels=['a','e','i','o','u']\n",
        "    '''Input: str takes the string as input\n",
        "       Output: Store the vowels in vowels_list and return it.'''\n",
        "    # YOUR CODE GOES HERE\n",
        "    str=str.lower()\n",
        "    arr = list(str.split())\n",
        "    for word in arr:\n",
        "        for i in range(0,len(word)):\n",
        "          if word[i] in vowels:\n",
        "            vowels_list.append(word[i])\n",
        "    \n",
        "    \n",
        "    return vowels_list\n",
        "\n",
        "print(check_vowels(\"qwrt\"))"
      ],
      "metadata": {
        "colab": {
          "base_uri": "https://localhost:8080/"
        },
        "id": "cPHNBDPi8tH5",
        "outputId": "90bbc18e-7ed9-4efa-8155-604c96972fc5"
      },
      "execution_count": 49,
      "outputs": [
        {
          "output_type": "stream",
          "name": "stdout",
          "text": [
            "[]\n"
          ]
        }
      ]
    },
    {
      "cell_type": "code",
      "source": [
        "str1=\"deabc\"\n",
        "str2=\"bcdeaa\"\n",
        "new_str2=\"\"\n",
        "op=\"Not Same\"\n",
        "#print(B.join(A))\n",
        "\n",
        "for i in range(len(str2)-1):\n",
        "  str2=list(str2)\n",
        "  str2.append(str2[0])\n",
        "  str2.pop(0)\n",
        "  str2=''.join(str2)\n",
        "  print(str1, str2)\n",
        "  if (str1==str2):\n",
        "    op=\"Same\"\n",
        "    exit\n",
        "\n",
        "print(op)\n",
        "#print(str2)\n",
        "#print(str2)\n",
        "#print(B.join(str2))\n",
        "#print(B)\n",
        "#print(str1==B)\n",
        "\n"
      ],
      "metadata": {
        "colab": {
          "base_uri": "https://localhost:8080/"
        },
        "id": "DJACU5teAaT8",
        "outputId": "dec34839-c6f8-426c-b6e8-a12f67291a73"
      },
      "execution_count": 18,
      "outputs": [
        {
          "output_type": "stream",
          "name": "stdout",
          "text": [
            "deabc cdeaab\n",
            "deabc deaabc\n",
            "deabc eaabcd\n",
            "deabc aabcde\n",
            "deabc abcdea\n",
            "Not Same\n"
          ]
        }
      ]
    },
    {
      "cell_type": "code",
      "source": [
        "lis = [(0, 2), (1, 3), (2, 4)]\n",
        "result = sum (n for n,_ in lis)\n",
        "print(result)"
      ],
      "metadata": {
        "colab": {
          "base_uri": "https://localhost:8080/"
        },
        "id": "5p3pWxttmuvH",
        "outputId": "2154202b-a52c-439c-d36d-2af8ff112b24"
      },
      "execution_count": 24,
      "outputs": [
        {
          "output_type": "stream",
          "name": "stdout",
          "text": [
            "3\n"
          ]
        }
      ]
    },
    {
      "cell_type": "code",
      "source": [
        "str=\"abcde\"\n",
        "a=set(str)\n",
        "a=\"\".join(a)\n",
        "print(a)"
      ],
      "metadata": {
        "colab": {
          "base_uri": "https://localhost:8080/"
        },
        "id": "J3NYsV8dnW3e",
        "outputId": "5a5c18ae-1d07-417f-ab18-9a91d2f620aa"
      },
      "execution_count": 34,
      "outputs": [
        {
          "output_type": "stream",
          "name": "stdout",
          "text": [
            "cbdae\n"
          ]
        }
      ]
    },
    {
      "cell_type": "code",
      "source": [
        "sampleDict = { \"class\":{ \"student\":{ \"name\":\"Mike\", \"marks\":{ \"physics\":70, \"history\":80 } } } }\n",
        "print(sampleDict['class']['student']['marks']['history'])\n",
        "print(sampleDict['class']['student']['marks'][1])\n",
        "#asas={\"a\":1,\"b\":4,\"c\":5,\"d\":6}\n",
        "#print(asas['b'])"
      ],
      "metadata": {
        "colab": {
          "base_uri": "https://localhost:8080/",
          "height": 264
        },
        "id": "8emkOlhxqLpQ",
        "outputId": "67dba55e-0835-4e73-f314-562c73f65713"
      },
      "execution_count": 41,
      "outputs": [
        {
          "output_type": "stream",
          "name": "stdout",
          "text": [
            "80\n"
          ]
        },
        {
          "output_type": "error",
          "ename": "KeyError",
          "evalue": "ignored",
          "traceback": [
            "\u001b[0;31m---------------------------------------------------------------------------\u001b[0m",
            "\u001b[0;31mKeyError\u001b[0m                                  Traceback (most recent call last)",
            "\u001b[0;32m<ipython-input-41-49d800ce3022>\u001b[0m in \u001b[0;36m<module>\u001b[0;34m\u001b[0m\n\u001b[1;32m      1\u001b[0m \u001b[0msampleDict\u001b[0m \u001b[0;34m=\u001b[0m \u001b[0;34m{\u001b[0m \u001b[0;34m\"class\"\u001b[0m\u001b[0;34m:\u001b[0m\u001b[0;34m{\u001b[0m \u001b[0;34m\"student\"\u001b[0m\u001b[0;34m:\u001b[0m\u001b[0;34m{\u001b[0m \u001b[0;34m\"name\"\u001b[0m\u001b[0;34m:\u001b[0m\u001b[0;34m\"Mike\"\u001b[0m\u001b[0;34m,\u001b[0m \u001b[0;34m\"marks\"\u001b[0m\u001b[0;34m:\u001b[0m\u001b[0;34m{\u001b[0m \u001b[0;34m\"physics\"\u001b[0m\u001b[0;34m:\u001b[0m\u001b[0;36m70\u001b[0m\u001b[0;34m,\u001b[0m \u001b[0;34m\"history\"\u001b[0m\u001b[0;34m:\u001b[0m\u001b[0;36m80\u001b[0m \u001b[0;34m}\u001b[0m \u001b[0;34m}\u001b[0m \u001b[0;34m}\u001b[0m \u001b[0;34m}\u001b[0m\u001b[0;34m\u001b[0m\u001b[0;34m\u001b[0m\u001b[0m\n\u001b[1;32m      2\u001b[0m \u001b[0mprint\u001b[0m\u001b[0;34m(\u001b[0m\u001b[0msampleDict\u001b[0m\u001b[0;34m[\u001b[0m\u001b[0;34m'class'\u001b[0m\u001b[0;34m]\u001b[0m\u001b[0;34m[\u001b[0m\u001b[0;34m'student'\u001b[0m\u001b[0;34m]\u001b[0m\u001b[0;34m[\u001b[0m\u001b[0;34m'marks'\u001b[0m\u001b[0;34m]\u001b[0m\u001b[0;34m[\u001b[0m\u001b[0;34m'history'\u001b[0m\u001b[0;34m]\u001b[0m\u001b[0;34m)\u001b[0m\u001b[0;34m\u001b[0m\u001b[0;34m\u001b[0m\u001b[0m\n\u001b[0;32m----> 3\u001b[0;31m \u001b[0mprint\u001b[0m\u001b[0;34m(\u001b[0m\u001b[0msampleDict\u001b[0m\u001b[0;34m[\u001b[0m\u001b[0;34m'class'\u001b[0m\u001b[0;34m]\u001b[0m\u001b[0;34m[\u001b[0m\u001b[0;34m'student'\u001b[0m\u001b[0;34m]\u001b[0m\u001b[0;34m[\u001b[0m\u001b[0;34m'marks'\u001b[0m\u001b[0;34m]\u001b[0m\u001b[0;34m[\u001b[0m\u001b[0;36m1\u001b[0m\u001b[0;34m]\u001b[0m\u001b[0;34m)\u001b[0m\u001b[0;34m\u001b[0m\u001b[0;34m\u001b[0m\u001b[0m\n\u001b[0m\u001b[1;32m      4\u001b[0m \u001b[0;31m#asas={\"a\":1,\"b\":4,\"c\":5,\"d\":6}\u001b[0m\u001b[0;34m\u001b[0m\u001b[0;34m\u001b[0m\u001b[0;34m\u001b[0m\u001b[0m\n\u001b[1;32m      5\u001b[0m \u001b[0;31m#print(asas['b'])\u001b[0m\u001b[0;34m\u001b[0m\u001b[0;34m\u001b[0m\u001b[0;34m\u001b[0m\u001b[0m\n",
            "\u001b[0;31mKeyError\u001b[0m: 1"
          ]
        }
      ]
    },
    {
      "cell_type": "code",
      "source": [
        "D={'a': 1, 'b':2}\n",
        "for i in D.keys():\n",
        "  D[D[i]]=i\n",
        "print(D)"
      ],
      "metadata": {
        "colab": {
          "base_uri": "https://localhost:8080/",
          "height": 227
        },
        "id": "aujUT5bOr4b0",
        "outputId": "34285806-3e4d-484b-fcb5-62d4f98c39fa"
      },
      "execution_count": 51,
      "outputs": [
        {
          "output_type": "error",
          "ename": "RuntimeError",
          "evalue": "ignored",
          "traceback": [
            "\u001b[0;31m---------------------------------------------------------------------------\u001b[0m",
            "\u001b[0;31mRuntimeError\u001b[0m                              Traceback (most recent call last)",
            "\u001b[0;32m<ipython-input-51-8eb721a97e5b>\u001b[0m in \u001b[0;36m<module>\u001b[0;34m\u001b[0m\n\u001b[1;32m      1\u001b[0m \u001b[0mD\u001b[0m\u001b[0;34m=\u001b[0m\u001b[0;34m{\u001b[0m\u001b[0;34m'a'\u001b[0m\u001b[0;34m:\u001b[0m \u001b[0;36m1\u001b[0m\u001b[0;34m,\u001b[0m \u001b[0;34m'b'\u001b[0m\u001b[0;34m:\u001b[0m\u001b[0;36m2\u001b[0m\u001b[0;34m}\u001b[0m\u001b[0;34m\u001b[0m\u001b[0;34m\u001b[0m\u001b[0m\n\u001b[0;32m----> 2\u001b[0;31m \u001b[0;32mfor\u001b[0m \u001b[0mi\u001b[0m \u001b[0;32min\u001b[0m \u001b[0mD\u001b[0m\u001b[0;34m.\u001b[0m\u001b[0mkeys\u001b[0m\u001b[0;34m(\u001b[0m\u001b[0;34m)\u001b[0m\u001b[0;34m:\u001b[0m\u001b[0;34m\u001b[0m\u001b[0;34m\u001b[0m\u001b[0m\n\u001b[0m\u001b[1;32m      3\u001b[0m   \u001b[0mD\u001b[0m\u001b[0;34m[\u001b[0m\u001b[0mD\u001b[0m\u001b[0;34m[\u001b[0m\u001b[0mi\u001b[0m\u001b[0;34m]\u001b[0m\u001b[0;34m]\u001b[0m\u001b[0;34m=\u001b[0m\u001b[0mi\u001b[0m\u001b[0;34m\u001b[0m\u001b[0;34m\u001b[0m\u001b[0m\n\u001b[1;32m      4\u001b[0m \u001b[0mprint\u001b[0m\u001b[0;34m(\u001b[0m\u001b[0mD\u001b[0m\u001b[0;34m)\u001b[0m\u001b[0;34m\u001b[0m\u001b[0;34m\u001b[0m\u001b[0m\n",
            "\u001b[0;31mRuntimeError\u001b[0m: dictionary changed size during iteration"
          ]
        }
      ]
    },
    {
      "cell_type": "code",
      "source": [
        "D={'a': 1, 'b':2}\n",
        "for k,v in D.items():\n",
        "  D=v:k\n",
        "  print(k,v)\n",
        "print(D)"
      ],
      "metadata": {
        "colab": {
          "base_uri": "https://localhost:8080/",
          "height": 135
        },
        "id": "Dvezj-Ayv-P9",
        "outputId": "d6af3dc2-795f-4d9b-caa3-d453dd59a315"
      },
      "execution_count": 63,
      "outputs": [
        {
          "output_type": "error",
          "ename": "SyntaxError",
          "evalue": "ignored",
          "traceback": [
            "\u001b[0;36m  File \u001b[0;32m\"<ipython-input-63-45cd4ca3d742>\"\u001b[0;36m, line \u001b[0;32m3\u001b[0m\n\u001b[0;31m    D=v:k\u001b[0m\n\u001b[0m       ^\u001b[0m\n\u001b[0;31mSyntaxError\u001b[0m\u001b[0;31m:\u001b[0m invalid syntax\n"
          ]
        }
      ]
    },
    {
      "cell_type": "code",
      "source": [
        "D={'a': 1, 'b':2}\n",
        "D = {v: k for k, v in D.items()}\n",
        "print(D)"
      ],
      "metadata": {
        "colab": {
          "base_uri": "https://localhost:8080/"
        },
        "id": "rWWV_wPry2u7",
        "outputId": "f1f9d764-63e2-4fff-ce53-ea1a7a7e5a96"
      },
      "execution_count": 60,
      "outputs": [
        {
          "output_type": "stream",
          "name": "stdout",
          "text": [
            "{1: 'a', 2: 'b'}\n"
          ]
        }
      ]
    },
    {
      "cell_type": "code",
      "source": [
        "S=['M2004Sam','F1001Sam']\n",
        "Entry=[]\n",
        "for i in range(len(S)):\n",
        "  a=int(S[i][1:5])\n",
        "  if (2022-a)>18:\n",
        "    Entry.append('Entry for you')\n",
        "  else:\n",
        "    Entry.append('No Entry for you')\n",
        "print(Entry)"
      ],
      "metadata": {
        "colab": {
          "base_uri": "https://localhost:8080/"
        },
        "id": "jajqHtmk0jU7",
        "outputId": "93ca853d-c986-4be3-cab4-6db8b7d0e520"
      },
      "execution_count": 73,
      "outputs": [
        {
          "output_type": "stream",
          "name": "stdout",
          "text": [
            "['No Entry for you', 'Entry for you']\n"
          ]
        }
      ]
    },
    {
      "cell_type": "code",
      "source": [
        "my_string=\"wqewewidfoppu\"\n",
        "k = [i for i in my_string if i not in \"aeiou\"] \n",
        "\n",
        "print(k) "
      ],
      "metadata": {
        "colab": {
          "base_uri": "https://localhost:8080/"
        },
        "id": "hjeXAH6q3pzA",
        "outputId": "0a25604c-045d-4e60-efbb-8d51f43f1b61"
      },
      "execution_count": 76,
      "outputs": [
        {
          "output_type": "stream",
          "name": "stdout",
          "text": [
            "['w', 'q', 'w', 'w', 'd', 'f', 'p', 'p']\n"
          ]
        }
      ]
    },
    {
      "cell_type": "code",
      "source": [
        "A=[{'A':[1,2,3],'B':[4,5,6],'C':[7,8,9]}, 'B']\n",
        "#Scores=[('A','B''C'),(4,5,6),(7,8,9)]\n",
        "names=['A','B','C']\n",
        "runs=[25,50,10]\n",
        "wickets=[3,5,4]\n",
        "bowls=[7,12,3]\n",
        "result=names[0]\n",
        "dict={}\n",
        "\n",
        "#for n,r,w,b in names,runs,wickets,bowls:\n",
        "#  print(n,r,w,b)\n",
        "\n",
        "for i in range(len(names)):\n",
        "  print(names[i],runs[i],wickets[i],bowls[i])\n",
        "  dict[names[i]]=[runs[i],wickets[i],bowls[i]]\n",
        "  if (runs[i]/bowls[i])>4 and wickets[i]>2:\n",
        "    result=names[i]\n",
        "  elif (runs[i]/bowls[i])<4 and wickets[i]>4:\n",
        "    result=names[i]\n",
        "\n",
        "op=[dict,result]\n",
        "print(op)\n",
        "\n",
        "\n",
        "#Nihal 50 5 12\n",
        "#Sanjay 10 4 3"
      ],
      "metadata": {
        "colab": {
          "base_uri": "https://localhost:8080/"
        },
        "id": "6EqZrUO1li_4",
        "outputId": "624122ef-0dfc-4d85-ce80-891fedf30172"
      },
      "execution_count": 23,
      "outputs": [
        {
          "output_type": "stream",
          "name": "stdout",
          "text": [
            "A 25 3 7\n",
            "B 50 5 12\n",
            "C 10 4 3\n",
            "[{'A': [25, 3, 7], 'B': [50, 5, 12], 'C': [10, 4, 3]}, 'B']\n"
          ]
        }
      ]
    },
    {
      "cell_type": "code",
      "source": [
        "result=names[0]\n",
        "dict={}\n",
        "\n",
        "#for n,r,w,b in names,runs,wickets,bowls:\n",
        "#  print(n,r,w,b)\n",
        "\n",
        "for i in range(len(names)):\n",
        "  print(names[i],runs[i],wickets[i],bowls[i])\n",
        "  dict[names[i]]=[runs[i],wickets[i],bowls[i]]\n",
        "  if (runs[i]/bowls[i])>4 and wickets[i]>2:\n",
        "    result=names[i]\n",
        "  elif (runs[i]/bowls[i])<4 and wickets[i]>4:\n",
        "    result=names[i]\n",
        "\n",
        "op=[dict,result]\n",
        "print(op)\n",
        "\n",
        "\n",
        "#Nihal 50 5 12\n",
        "#Sanjay 10 4 3"
      ],
      "metadata": {
        "id": "K-p82y7u8zdf"
      },
      "execution_count": null,
      "outputs": []
    },
    {
      "cell_type": "code",
      "source": [
        "fruits = {'banana':3,'apple':2, 'mango':1, 'kiwi':5}\n",
        "\n",
        "# Create blank list to append to\n",
        "fruits_list = []\n",
        "\n",
        "# Create the for loop\n",
        "for fruit, quantity in fruits.items():\n",
        "    # Append the list to the main list\n",
        "    fruits_list.append([fruit]*quantity)\n",
        "print(fruits_list)"
      ],
      "metadata": {
        "colab": {
          "base_uri": "https://localhost:8080/"
        },
        "id": "ocnPJsXyxLGr",
        "outputId": "406be572-ee26-4523-ce78-e3ac951bb81f"
      },
      "execution_count": 55,
      "outputs": [
        {
          "output_type": "stream",
          "name": "stdout",
          "text": [
            "[['banana', 'banana', 'banana'], ['apple', 'apple'], ['mango'], ['kiwi', 'kiwi', 'kiwi', 'kiwi', 'kiwi']]\n"
          ]
        }
      ]
    },
    {
      "cell_type": "code",
      "source": [
        "def countuniquewords(inp):\n",
        "    ans = 0\n",
        "    arr = list(inp.split())\n",
        "    for word in arr:\n",
        "        arr2=[]\n",
        "        print(word)\n",
        "        print(len(set(word)))\n",
        "        print(len(word))\n",
        "        if len(set(word)) == len(word) and len(word) > 3:\n",
        "        #if len(tuple(word)) == len(word) and len(word) > 3:\n",
        "          ans += 1\n",
        "  \n",
        "    return ans\n",
        "\n",
        "op=countuniquewords(\"andww my sister is abcde ttttt vijay\")\n",
        "print(op)"
      ],
      "metadata": {
        "colab": {
          "base_uri": "https://localhost:8080/"
        },
        "id": "jyyNONOZ26PY",
        "outputId": "07e902b2-de28-436d-eb51-243520ab622f"
      },
      "execution_count": 27,
      "outputs": [
        {
          "output_type": "stream",
          "name": "stdout",
          "text": [
            "andww\n",
            "4\n",
            "5\n",
            "my\n",
            "2\n",
            "2\n",
            "sister\n",
            "5\n",
            "6\n",
            "is\n",
            "2\n",
            "2\n",
            "abcde\n",
            "5\n",
            "5\n",
            "ttttt\n",
            "1\n",
            "5\n",
            "vijay\n",
            "5\n",
            "5\n",
            "2\n"
          ]
        }
      ]
    },
    {
      "cell_type": "code",
      "source": [
        "def countuniquewords(inp):\n",
        "    ans = 0\n",
        "    arr = list(inp.split())\n",
        "    for word in arr:\n",
        "      arr2=[]\n",
        "      print(word)\n",
        "      print(len(tuple(word)))\n",
        "      print(len(word))\n",
        "      if len(tuple(word)) == len(word) and len(word) > 3:\n",
        "        ans += 1\n",
        "  \n",
        "    return ans\n",
        "\n",
        "op=countuniquewords(\"andww my sister is abcde ttttt\")\n",
        "print(op)"
      ],
      "metadata": {
        "colab": {
          "base_uri": "https://localhost:8080/"
        },
        "id": "Whvi55Ab2_4X",
        "outputId": "f6e5643d-3cb7-4164-d3a4-19e9ac834e3a"
      },
      "execution_count": 25,
      "outputs": [
        {
          "output_type": "stream",
          "name": "stdout",
          "text": [
            "andww\n",
            "5\n",
            "5\n",
            "my\n",
            "2\n",
            "2\n",
            "sister\n",
            "6\n",
            "6\n",
            "is\n",
            "2\n",
            "2\n",
            "abcde\n",
            "5\n",
            "5\n",
            "ttttt\n",
            "5\n",
            "5\n",
            "4\n"
          ]
        }
      ]
    },
    {
      "cell_type": "code",
      "source": [
        "A=['Jadega','Rahul','Rohit']\n",
        "B=['Jadega','Rahul','Rohit']\n",
        "C=['Jadega','Rahul','Rohit']\n",
        "D=['Jadega','Rahul','Rohit']\n",
        "\n",
        "A[len(A):]=['Dhoni','Virat']\n",
        "B+=['Dhoni','Virat']\n",
        "C+='Dhoni Virat'\n",
        "D[-1:]=['Dhoni','Virat']\n",
        "print(A)\n",
        "print(B)\n",
        "print(C)\n",
        "print(D)"
      ],
      "metadata": {
        "colab": {
          "base_uri": "https://localhost:8080/"
        },
        "id": "LhPOJu36FwXC",
        "outputId": "1da30db2-ea17-4b58-b3e1-3fd8698532ca"
      },
      "execution_count": 5,
      "outputs": [
        {
          "output_type": "stream",
          "name": "stdout",
          "text": [
            "['Jadega', 'Rahul', 'Rohit', 'Dhoni', 'Virat']\n",
            "['Jadega', 'Rahul', 'Rohit', 'Dhoni', 'Virat']\n",
            "['Jadega', 'Rahul', 'Rohit', 'D', 'h', 'o', 'n', 'i', ' ', 'V', 'i', 'r', 'a', 't']\n",
            "['Jadega', 'Rahul', 'Dhoni', 'Virat']\n"
          ]
        }
      ]
    },
    {
      "cell_type": "code",
      "source": [
        "def sum_even_odd(n):\n",
        "    sum_even=0\n",
        "    sum_odd=0\n",
        "    for i in range(1,n+1):\n",
        "        if i%2==0:\n",
        "            sum_even+=i\n",
        "        else:\n",
        "            sum_odd+=i\n",
        "\n",
        "    return sum_even,sum_odd\n",
        "\n",
        "print(sum_even_odd(3))"
      ],
      "metadata": {
        "colab": {
          "base_uri": "https://localhost:8080/"
        },
        "id": "c37vrGxLIgOr",
        "outputId": "115a04b9-38c7-4eb0-d47a-ec3f2b8f1c3a"
      },
      "execution_count": 15,
      "outputs": [
        {
          "output_type": "stream",
          "name": "stdout",
          "text": [
            "(2, 4)\n"
          ]
        }
      ]
    },
    {
      "cell_type": "code",
      "source": [
        "def perfect_number(n):\n",
        "    '''input: n = An Integer value \n",
        "       output: return 1 if it is perfect number else 0'''\n",
        "    sum=1\n",
        "    for i in range(2,(n//2)+1):\n",
        "        if n%i==0:\n",
        "            sum+=i\n",
        "        \n",
        "    if sum==n:\n",
        "      return 1\n",
        "    else:\n",
        "      return 0\n",
        "\n",
        "print(perfect_number(-6))"
      ],
      "metadata": {
        "colab": {
          "base_uri": "https://localhost:8080/"
        },
        "id": "MxsplFiCLKNR",
        "outputId": "f491eef1-360e-4b7a-9b7d-a94dd24249a8"
      },
      "execution_count": 26,
      "outputs": [
        {
          "output_type": "stream",
          "name": "stdout",
          "text": [
            "0\n"
          ]
        }
      ]
    },
    {
      "cell_type": "code",
      "source": [
        "print(5//2)"
      ],
      "metadata": {
        "colab": {
          "base_uri": "https://localhost:8080/"
        },
        "id": "ljAG4f4vCLcz",
        "outputId": "a05418e2-caf0-4541-e6ad-bd5de76bb5b2"
      },
      "execution_count": 27,
      "outputs": [
        {
          "output_type": "stream",
          "name": "stdout",
          "text": [
            "2\n"
          ]
        }
      ]
    },
    {
      "cell_type": "code",
      "source": [
        "def mult(lst):\n",
        "  prod=1\n",
        "  for i in range(len(lst)):\n",
        "    if lst[i]==0:\n",
        "      return 0\n",
        "      exit\n",
        "    else:\n",
        "      prod=prod*lst[i]\n",
        "\n",
        "  return prod\n",
        "\n",
        "A = [1,-1,2,3,4,-5,1,1,1,1,1,1,1,1,32321,4341324]\n",
        "op=mult(A)\n",
        "print(op)\n"
      ],
      "metadata": {
        "colab": {
          "base_uri": "https://localhost:8080/"
        },
        "id": "5_2IJnMeVlMv",
        "outputId": "4c2d09aa-2ac8-4102-fce1-c4366a7d19e5"
      },
      "execution_count": 11,
      "outputs": [
        {
          "output_type": "stream",
          "name": "stdout",
          "text": [
            "16837911960480\n"
          ]
        }
      ]
    },
    {
      "cell_type": "code",
      "source": [
        "for number in range(1, 5) :\n",
        "  if number == 3:\n",
        "    break\n",
        "    print(number)\n",
        "print(\"Hello\")"
      ],
      "metadata": {
        "colab": {
          "base_uri": "https://localhost:8080/"
        },
        "id": "SqMxG_1GPB4l",
        "outputId": "3c3c736b-7c93-4957-a937-dc9d26a12f06"
      },
      "execution_count": 17,
      "outputs": [
        {
          "output_type": "stream",
          "name": "stdout",
          "text": [
            "Hello\n"
          ]
        }
      ]
    },
    {
      "cell_type": "code",
      "source": [
        "a=12\n",
        "A=[a]\n",
        "print(list[(a)])"
      ],
      "metadata": {
        "colab": {
          "base_uri": "https://localhost:8080/",
          "height": 209
        },
        "id": "Tmkf_xeASMY5",
        "outputId": "ad1584e2-b079-41f4-f86e-aae7bf34ad19"
      },
      "execution_count": 25,
      "outputs": [
        {
          "output_type": "error",
          "ename": "TypeError",
          "evalue": "ignored",
          "traceback": [
            "\u001b[0;31m---------------------------------------------------------------------------\u001b[0m",
            "\u001b[0;31mTypeError\u001b[0m                                 Traceback (most recent call last)",
            "\u001b[0;32m<ipython-input-25-de74117f6acf>\u001b[0m in \u001b[0;36m<module>\u001b[0;34m\u001b[0m\n\u001b[1;32m      1\u001b[0m \u001b[0ma\u001b[0m\u001b[0;34m=\u001b[0m\u001b[0;36m12\u001b[0m\u001b[0;34m\u001b[0m\u001b[0;34m\u001b[0m\u001b[0m\n\u001b[1;32m      2\u001b[0m \u001b[0mA\u001b[0m\u001b[0;34m=\u001b[0m\u001b[0;34m[\u001b[0m\u001b[0ma\u001b[0m\u001b[0;34m]\u001b[0m\u001b[0;34m\u001b[0m\u001b[0;34m\u001b[0m\u001b[0m\n\u001b[0;32m----> 3\u001b[0;31m \u001b[0mprint\u001b[0m\u001b[0;34m(\u001b[0m\u001b[0mlist\u001b[0m\u001b[0;34m[\u001b[0m\u001b[0;34m(\u001b[0m\u001b[0ma\u001b[0m\u001b[0;34m)\u001b[0m\u001b[0;34m]\u001b[0m\u001b[0;34m)\u001b[0m\u001b[0;34m\u001b[0m\u001b[0;34m\u001b[0m\u001b[0m\n\u001b[0m",
            "\u001b[0;31mTypeError\u001b[0m: 'type' object is not subscriptable"
          ]
        }
      ]
    }
  ]
}